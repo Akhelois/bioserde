{
 "cells": [
  {
   "cell_type": "code",
   "execution_count": 91,
   "id": "b001e874",
   "metadata": {},
   "outputs": [],
   "source": [
    "import pandas as pd\n",
    "import numpy as np\n",
    "from sklearn.model_selection import train_test_split\n",
    "from sklearn.linear_model import LinearRegression\n",
    "from sklearn.preprocessing import LabelEncoder, StandardScaler\n",
    "import joblib"
   ]
  },
  {
   "cell_type": "code",
   "execution_count": 92,
   "id": "81c28033",
   "metadata": {},
   "outputs": [],
   "source": [
    "df = pd.read_csv('biogas.csv')"
   ]
  },
  {
   "cell_type": "code",
   "execution_count": 93,
   "id": "7c87adae",
   "metadata": {},
   "outputs": [
    {
     "data": {
      "text/html": [
       "<div>\n",
       "<style scoped>\n",
       "    .dataframe tbody tr th:only-of-type {\n",
       "        vertical-align: middle;\n",
       "    }\n",
       "\n",
       "    .dataframe tbody tr th {\n",
       "        vertical-align: top;\n",
       "    }\n",
       "\n",
       "    .dataframe thead th {\n",
       "        text-align: right;\n",
       "    }\n",
       "</style>\n",
       "<table border=\"1\" class=\"dataframe\">\n",
       "  <thead>\n",
       "    <tr style=\"text-align: right;\">\n",
       "      <th></th>\n",
       "      <th>timestamp</th>\n",
       "      <th>ph</th>\n",
       "      <th>biogas_production</th>\n",
       "      <th>anomaly</th>\n",
       "      <th>cause</th>\n",
       "    </tr>\n",
       "  </thead>\n",
       "  <tbody>\n",
       "    <tr>\n",
       "      <th>0</th>\n",
       "      <td>2024-01-01 08:00:00</td>\n",
       "      <td>6.87</td>\n",
       "      <td>34.81</td>\n",
       "      <td>1</td>\n",
       "      <td>NaN</td>\n",
       "    </tr>\n",
       "    <tr>\n",
       "      <th>1</th>\n",
       "      <td>2024-01-01 10:00:00</td>\n",
       "      <td>7.45</td>\n",
       "      <td>50.21</td>\n",
       "      <td>1</td>\n",
       "      <td>NaN</td>\n",
       "    </tr>\n",
       "    <tr>\n",
       "      <th>2</th>\n",
       "      <td>2024-01-01 12:00:00</td>\n",
       "      <td>7.23</td>\n",
       "      <td>35.38</td>\n",
       "      <td>1</td>\n",
       "      <td>NaN</td>\n",
       "    </tr>\n",
       "    <tr>\n",
       "      <th>3</th>\n",
       "      <td>2024-01-01 14:00:00</td>\n",
       "      <td>7.10</td>\n",
       "      <td>50.82</td>\n",
       "      <td>1</td>\n",
       "      <td>NaN</td>\n",
       "    </tr>\n",
       "    <tr>\n",
       "      <th>4</th>\n",
       "      <td>2024-01-01 16:00:00</td>\n",
       "      <td>6.66</td>\n",
       "      <td>36.89</td>\n",
       "      <td>1</td>\n",
       "      <td>NaN</td>\n",
       "    </tr>\n",
       "    <tr>\n",
       "      <th>...</th>\n",
       "      <td>...</td>\n",
       "      <td>...</td>\n",
       "      <td>...</td>\n",
       "      <td>...</td>\n",
       "      <td>...</td>\n",
       "    </tr>\n",
       "    <tr>\n",
       "      <th>2995</th>\n",
       "      <td>2024-09-06 22:00:00</td>\n",
       "      <td>7.37</td>\n",
       "      <td>58.44</td>\n",
       "      <td>0</td>\n",
       "      <td>NaN</td>\n",
       "    </tr>\n",
       "    <tr>\n",
       "      <th>2996</th>\n",
       "      <td>2024-09-07 00:00:00</td>\n",
       "      <td>6.66</td>\n",
       "      <td>37.76</td>\n",
       "      <td>0</td>\n",
       "      <td>NaN</td>\n",
       "    </tr>\n",
       "    <tr>\n",
       "      <th>2997</th>\n",
       "      <td>2024-09-07 02:00:00</td>\n",
       "      <td>8.29</td>\n",
       "      <td>15.35</td>\n",
       "      <td>0</td>\n",
       "      <td>pH tinggi</td>\n",
       "    </tr>\n",
       "    <tr>\n",
       "      <th>2998</th>\n",
       "      <td>2024-09-07 04:00:00</td>\n",
       "      <td>6.79</td>\n",
       "      <td>42.07</td>\n",
       "      <td>0</td>\n",
       "      <td>NaN</td>\n",
       "    </tr>\n",
       "    <tr>\n",
       "      <th>2999</th>\n",
       "      <td>2024-09-07 06:00:00</td>\n",
       "      <td>7.37</td>\n",
       "      <td>31.54</td>\n",
       "      <td>0</td>\n",
       "      <td>NaN</td>\n",
       "    </tr>\n",
       "  </tbody>\n",
       "</table>\n",
       "<p>3000 rows × 5 columns</p>\n",
       "</div>"
      ],
      "text/plain": [
       "                timestamp    ph  biogas_production  anomaly      cause\n",
       "0     2024-01-01 08:00:00  6.87              34.81        1        NaN\n",
       "1     2024-01-01 10:00:00  7.45              50.21        1        NaN\n",
       "2     2024-01-01 12:00:00  7.23              35.38        1        NaN\n",
       "3     2024-01-01 14:00:00  7.10              50.82        1        NaN\n",
       "4     2024-01-01 16:00:00  6.66              36.89        1        NaN\n",
       "...                   ...   ...                ...      ...        ...\n",
       "2995  2024-09-06 22:00:00  7.37              58.44        0        NaN\n",
       "2996  2024-09-07 00:00:00  6.66              37.76        0        NaN\n",
       "2997  2024-09-07 02:00:00  8.29              15.35        0  pH tinggi\n",
       "2998  2024-09-07 04:00:00  6.79              42.07        0        NaN\n",
       "2999  2024-09-07 06:00:00  7.37              31.54        0        NaN\n",
       "\n",
       "[3000 rows x 5 columns]"
      ]
     },
     "execution_count": 93,
     "metadata": {},
     "output_type": "execute_result"
    }
   ],
   "source": [
    "df"
   ]
  },
  {
   "cell_type": "code",
   "execution_count": 81,
   "id": "80384e21",
   "metadata": {},
   "outputs": [],
   "source": [
    "from sklearn.model_selection import train_test_split\n",
    "from sklearn.linear_model import LinearRegression\n",
    "import joblib\n",
    "\n",
    "df['timestamp'] = pd.to_datetime(df['timestamp'])\n",
    "\n",
    "df['hour'] = df['timestamp'].dt.hour\n",
    "df['day'] = df['timestamp'].dt.day\n",
    "df['month'] = df['timestamp'].dt.month\n",
    "df['day_of_week'] = df['timestamp'].dt.dayofweek"
   ]
  },
  {
   "cell_type": "code",
   "execution_count": 94,
   "id": "f9dcab69",
   "metadata": {},
   "outputs": [],
   "source": [
    "df['timestamp'] = pd.to_datetime(df['timestamp'])\n",
    "df['hour'] = df['timestamp'].dt.hour\n",
    "df['day'] = df['timestamp'].dt.day\n",
    "df['month'] = df['timestamp'].dt.month\n",
    "df['day_of_week'] = df['timestamp'].dt.dayofweek"
   ]
  },
  {
   "cell_type": "code",
   "execution_count": 95,
   "id": "153b7c42",
   "metadata": {},
   "outputs": [],
   "source": [
    "X = df[['ph', 'biogas_production', 'hour', 'day', 'month', 'day_of_week']]\n",
    "y = df[['anomaly', 'cause']]"
   ]
  },
  {
   "cell_type": "code",
   "execution_count": 96,
   "id": "708c426f",
   "metadata": {},
   "outputs": [
    {
     "name": "stdout",
     "output_type": "stream",
     "text": [
      "\n",
      "Missing values in X: ph                   0\n",
      "biogas_production    0\n",
      "hour                 0\n",
      "day                  0\n",
      "month                0\n",
      "day_of_week          0\n",
      "dtype: int64\n",
      "Missing values in y: anomaly       0\n",
      "cause      2700\n",
      "dtype: int64\n"
     ]
    }
   ],
   "source": [
    "print(\"\\nMissing values in X:\", X.isna().sum())\n",
    "print(\"Missing values in y:\", y.isna().sum())"
   ]
  },
  {
   "cell_type": "code",
   "execution_count": 97,
   "id": "c9054ec2",
   "metadata": {},
   "outputs": [
    {
     "name": "stderr",
     "output_type": "stream",
     "text": [
      "C:\\Users\\Jason Lee\\AppData\\Local\\Temp\\ipykernel_2332\\2215595576.py:2: SettingWithCopyWarning: \n",
      "A value is trying to be set on a copy of a slice from a DataFrame.\n",
      "Try using .loc[row_indexer,col_indexer] = value instead\n",
      "\n",
      "See the caveats in the documentation: https://pandas.pydata.org/pandas-docs/stable/user_guide/indexing.html#returning-a-view-versus-a-copy\n",
      "  X[column] = X[column].fillna(X[column].median())\n",
      "C:\\Users\\Jason Lee\\AppData\\Local\\Temp\\ipykernel_2332\\2215595576.py:2: SettingWithCopyWarning: \n",
      "A value is trying to be set on a copy of a slice from a DataFrame.\n",
      "Try using .loc[row_indexer,col_indexer] = value instead\n",
      "\n",
      "See the caveats in the documentation: https://pandas.pydata.org/pandas-docs/stable/user_guide/indexing.html#returning-a-view-versus-a-copy\n",
      "  X[column] = X[column].fillna(X[column].median())\n",
      "C:\\Users\\Jason Lee\\AppData\\Local\\Temp\\ipykernel_2332\\2215595576.py:2: SettingWithCopyWarning: \n",
      "A value is trying to be set on a copy of a slice from a DataFrame.\n",
      "Try using .loc[row_indexer,col_indexer] = value instead\n",
      "\n",
      "See the caveats in the documentation: https://pandas.pydata.org/pandas-docs/stable/user_guide/indexing.html#returning-a-view-versus-a-copy\n",
      "  X[column] = X[column].fillna(X[column].median())\n",
      "C:\\Users\\Jason Lee\\AppData\\Local\\Temp\\ipykernel_2332\\2215595576.py:2: SettingWithCopyWarning: \n",
      "A value is trying to be set on a copy of a slice from a DataFrame.\n",
      "Try using .loc[row_indexer,col_indexer] = value instead\n",
      "\n",
      "See the caveats in the documentation: https://pandas.pydata.org/pandas-docs/stable/user_guide/indexing.html#returning-a-view-versus-a-copy\n",
      "  X[column] = X[column].fillna(X[column].median())\n",
      "C:\\Users\\Jason Lee\\AppData\\Local\\Temp\\ipykernel_2332\\2215595576.py:2: SettingWithCopyWarning: \n",
      "A value is trying to be set on a copy of a slice from a DataFrame.\n",
      "Try using .loc[row_indexer,col_indexer] = value instead\n",
      "\n",
      "See the caveats in the documentation: https://pandas.pydata.org/pandas-docs/stable/user_guide/indexing.html#returning-a-view-versus-a-copy\n",
      "  X[column] = X[column].fillna(X[column].median())\n",
      "C:\\Users\\Jason Lee\\AppData\\Local\\Temp\\ipykernel_2332\\2215595576.py:2: SettingWithCopyWarning: \n",
      "A value is trying to be set on a copy of a slice from a DataFrame.\n",
      "Try using .loc[row_indexer,col_indexer] = value instead\n",
      "\n",
      "See the caveats in the documentation: https://pandas.pydata.org/pandas-docs/stable/user_guide/indexing.html#returning-a-view-versus-a-copy\n",
      "  X[column] = X[column].fillna(X[column].median())\n"
     ]
    }
   ],
   "source": [
    "for column in X.columns:\n",
    "    X[column] = X[column].fillna(X[column].median())"
   ]
  },
  {
   "cell_type": "code",
   "execution_count": 98,
   "id": "94c2f658",
   "metadata": {},
   "outputs": [
    {
     "name": "stdout",
     "output_type": "stream",
     "text": [
      "2700\n"
     ]
    }
   ],
   "source": [
    "rows_before = len(y)\n",
    "non_na_indices = y.dropna().index\n",
    "X = X.loc[non_na_indices]\n",
    "y = y.loc[non_na_indices]\n",
    "rows_after = len(y)\n",
    "print(f\"{rows_before - rows_after}\")\n"
   ]
  },
  {
   "cell_type": "code",
   "execution_count": 99,
   "id": "68e636a9",
   "metadata": {},
   "outputs": [],
   "source": [
    "cause_encoder = LabelEncoder()\n",
    "cause_encoded = cause_encoder.fit_transform(y['cause'])"
   ]
  },
  {
   "cell_type": "code",
   "execution_count": 100,
   "id": "68768df8",
   "metadata": {},
   "outputs": [
    {
     "name": "stdout",
     "output_type": "stream",
     "text": [
      "Cause mapping: {'Maintenance': 0, 'Produksi naik drastis': 1, 'Produksi turun': 2, 'pH rendah': 3, 'pH tinggi': 4}\n"
     ]
    }
   ],
   "source": [
    "cause_mapping = dict(zip(cause_encoder.classes_, cause_encoder.transform(cause_encoder.classes_)))\n",
    "print(\"Cause mapping:\", cause_mapping)"
   ]
  },
  {
   "cell_type": "code",
   "execution_count": 101,
   "id": "23eb1232",
   "metadata": {},
   "outputs": [
    {
     "name": "stdout",
     "output_type": "stream",
     "text": [
      "      anomaly  cause\n",
      "16          1      4\n",
      "60          1      1\n",
      "72          1      0\n",
      "89          1      4\n",
      "91          1      4\n",
      "...       ...    ...\n",
      "2964        0      2\n",
      "2972        0      3\n",
      "2985        0      1\n",
      "2990        0      4\n",
      "2997        0      4\n",
      "\n",
      "[300 rows x 2 columns]\n"
     ]
    }
   ],
   "source": [
    "y['cause'] = cause_encoded\n",
    "print(y)"
   ]
  },
  {
   "cell_type": "code",
   "execution_count": 102,
   "id": "a1e90e47",
   "metadata": {},
   "outputs": [],
   "source": [
    "scaler = StandardScaler()\n",
    "X_scaled = scaler.fit_transform(X)\n",
    "X_scaled_df = pd.DataFrame(X_scaled, columns=X.columns, index=X.index)"
   ]
  },
  {
   "cell_type": "code",
   "execution_count": 103,
   "id": "01d49d09",
   "metadata": {},
   "outputs": [],
   "source": [
    "X_train, X_test, y_train, y_test = train_test_split(X_scaled_df, y, test_size=0.2, random_state=42)"
   ]
  },
  {
   "cell_type": "code",
   "execution_count": 104,
   "id": "51cc22c6",
   "metadata": {},
   "outputs": [
    {
     "data": {
      "text/html": [
       "<style>#sk-container-id-1 {color: black;background-color: white;}#sk-container-id-1 pre{padding: 0;}#sk-container-id-1 div.sk-toggleable {background-color: white;}#sk-container-id-1 label.sk-toggleable__label {cursor: pointer;display: block;width: 100%;margin-bottom: 0;padding: 0.3em;box-sizing: border-box;text-align: center;}#sk-container-id-1 label.sk-toggleable__label-arrow:before {content: \"▸\";float: left;margin-right: 0.25em;color: #696969;}#sk-container-id-1 label.sk-toggleable__label-arrow:hover:before {color: black;}#sk-container-id-1 div.sk-estimator:hover label.sk-toggleable__label-arrow:before {color: black;}#sk-container-id-1 div.sk-toggleable__content {max-height: 0;max-width: 0;overflow: hidden;text-align: left;background-color: #f0f8ff;}#sk-container-id-1 div.sk-toggleable__content pre {margin: 0.2em;color: black;border-radius: 0.25em;background-color: #f0f8ff;}#sk-container-id-1 input.sk-toggleable__control:checked~div.sk-toggleable__content {max-height: 200px;max-width: 100%;overflow: auto;}#sk-container-id-1 input.sk-toggleable__control:checked~label.sk-toggleable__label-arrow:before {content: \"▾\";}#sk-container-id-1 div.sk-estimator input.sk-toggleable__control:checked~label.sk-toggleable__label {background-color: #d4ebff;}#sk-container-id-1 div.sk-label input.sk-toggleable__control:checked~label.sk-toggleable__label {background-color: #d4ebff;}#sk-container-id-1 input.sk-hidden--visually {border: 0;clip: rect(1px 1px 1px 1px);clip: rect(1px, 1px, 1px, 1px);height: 1px;margin: -1px;overflow: hidden;padding: 0;position: absolute;width: 1px;}#sk-container-id-1 div.sk-estimator {font-family: monospace;background-color: #f0f8ff;border: 1px dotted black;border-radius: 0.25em;box-sizing: border-box;margin-bottom: 0.5em;}#sk-container-id-1 div.sk-estimator:hover {background-color: #d4ebff;}#sk-container-id-1 div.sk-parallel-item::after {content: \"\";width: 100%;border-bottom: 1px solid gray;flex-grow: 1;}#sk-container-id-1 div.sk-label:hover label.sk-toggleable__label {background-color: #d4ebff;}#sk-container-id-1 div.sk-serial::before {content: \"\";position: absolute;border-left: 1px solid gray;box-sizing: border-box;top: 0;bottom: 0;left: 50%;z-index: 0;}#sk-container-id-1 div.sk-serial {display: flex;flex-direction: column;align-items: center;background-color: white;padding-right: 0.2em;padding-left: 0.2em;position: relative;}#sk-container-id-1 div.sk-item {position: relative;z-index: 1;}#sk-container-id-1 div.sk-parallel {display: flex;align-items: stretch;justify-content: center;background-color: white;position: relative;}#sk-container-id-1 div.sk-item::before, #sk-container-id-1 div.sk-parallel-item::before {content: \"\";position: absolute;border-left: 1px solid gray;box-sizing: border-box;top: 0;bottom: 0;left: 50%;z-index: -1;}#sk-container-id-1 div.sk-parallel-item {display: flex;flex-direction: column;z-index: 1;position: relative;background-color: white;}#sk-container-id-1 div.sk-parallel-item:first-child::after {align-self: flex-end;width: 50%;}#sk-container-id-1 div.sk-parallel-item:last-child::after {align-self: flex-start;width: 50%;}#sk-container-id-1 div.sk-parallel-item:only-child::after {width: 0;}#sk-container-id-1 div.sk-dashed-wrapped {border: 1px dashed gray;margin: 0 0.4em 0.5em 0.4em;box-sizing: border-box;padding-bottom: 0.4em;background-color: white;}#sk-container-id-1 div.sk-label label {font-family: monospace;font-weight: bold;display: inline-block;line-height: 1.2em;}#sk-container-id-1 div.sk-label-container {text-align: center;}#sk-container-id-1 div.sk-container {/* jupyter's `normalize.less` sets `[hidden] { display: none; }` but bootstrap.min.css set `[hidden] { display: none !important; }` so we also need the `!important` here to be able to override the default hidden behavior on the sphinx rendered scikit-learn.org. See: https://github.com/scikit-learn/scikit-learn/issues/21755 */display: inline-block !important;position: relative;}#sk-container-id-1 div.sk-text-repr-fallback {display: none;}</style><div id=\"sk-container-id-1\" class=\"sk-top-container\"><div class=\"sk-text-repr-fallback\"><pre>LinearRegression()</pre><b>In a Jupyter environment, please rerun this cell to show the HTML representation or trust the notebook. <br />On GitHub, the HTML representation is unable to render, please try loading this page with nbviewer.org.</b></div><div class=\"sk-container\" hidden><div class=\"sk-item\"><div class=\"sk-estimator sk-toggleable\"><input class=\"sk-toggleable__control sk-hidden--visually\" id=\"sk-estimator-id-1\" type=\"checkbox\" checked><label for=\"sk-estimator-id-1\" class=\"sk-toggleable__label sk-toggleable__label-arrow\">LinearRegression</label><div class=\"sk-toggleable__content\"><pre>LinearRegression()</pre></div></div></div></div></div>"
      ],
      "text/plain": [
       "LinearRegression()"
      ]
     },
     "execution_count": 104,
     "metadata": {},
     "output_type": "execute_result"
    }
   ],
   "source": [
    "model = LinearRegression()\n",
    "model.fit(X_train, y_train)"
   ]
  },
  {
   "cell_type": "code",
   "execution_count": 105,
   "id": "f5457989",
   "metadata": {},
   "outputs": [
    {
     "name": "stdout",
     "output_type": "stream",
     "text": [
      "Training R² score: 0.2508\n",
      "Testing R² score: 0.1780\n"
     ]
    }
   ],
   "source": [
    "train_score = model.score(X_train, y_train)\n",
    "test_score = model.score(X_test, y_test)\n",
    "print(f\"Training R² score: {train_score:.4f}\")\n",
    "print(f\"Testing R² score: {test_score:.4f}\")"
   ]
  },
  {
   "cell_type": "code",
   "execution_count": 106,
   "id": "9d6534c7",
   "metadata": {},
   "outputs": [],
   "source": [
    "y_pred = model.predict(X_test)"
   ]
  },
  {
   "cell_type": "code",
   "execution_count": 107,
   "id": "770d7fe2",
   "metadata": {},
   "outputs": [],
   "source": [
    "threshold = 0.5\n",
    "y_pred_anomaly = y_pred[:, 0]\n",
    "y_pred_anomaly_binary = (y_pred_anomaly >= threshold).astype(int)"
   ]
  },
  {
   "cell_type": "code",
   "execution_count": 108,
   "id": "66b2bafc",
   "metadata": {},
   "outputs": [
    {
     "name": "stdout",
     "output_type": "stream",
     "text": [
      "Anomaly detection accuracy (with 0.5 threshold): 0.9333\n",
      "Confusion Matrix:\n",
      "[[56  0]\n",
      " [ 4  0]]\n",
      "Classification Report:\n",
      "              precision    recall  f1-score   support\n",
      "\n",
      "           0       0.93      1.00      0.97        56\n",
      "           1       0.00      0.00      0.00         4\n",
      "\n",
      "    accuracy                           0.93        60\n",
      "   macro avg       0.47      0.50      0.48        60\n",
      "weighted avg       0.87      0.93      0.90        60\n",
      "\n"
     ]
    },
    {
     "name": "stderr",
     "output_type": "stream",
     "text": [
      "c:\\Users\\Jason Lee\\AppData\\Local\\Programs\\Python\\Python310\\lib\\site-packages\\sklearn\\metrics\\_classification.py:1344: UndefinedMetricWarning: Precision and F-score are ill-defined and being set to 0.0 in labels with no predicted samples. Use `zero_division` parameter to control this behavior.\n",
      "  _warn_prf(average, modifier, msg_start, len(result))\n",
      "c:\\Users\\Jason Lee\\AppData\\Local\\Programs\\Python\\Python310\\lib\\site-packages\\sklearn\\metrics\\_classification.py:1344: UndefinedMetricWarning: Precision and F-score are ill-defined and being set to 0.0 in labels with no predicted samples. Use `zero_division` parameter to control this behavior.\n",
      "  _warn_prf(average, modifier, msg_start, len(result))\n",
      "c:\\Users\\Jason Lee\\AppData\\Local\\Programs\\Python\\Python310\\lib\\site-packages\\sklearn\\metrics\\_classification.py:1344: UndefinedMetricWarning: Precision and F-score are ill-defined and being set to 0.0 in labels with no predicted samples. Use `zero_division` parameter to control this behavior.\n",
      "  _warn_prf(average, modifier, msg_start, len(result))\n"
     ]
    }
   ],
   "source": [
    "from sklearn.metrics import accuracy_score, confusion_matrix, classification_report\n",
    "accuracy = accuracy_score(y_test['anomaly'], y_pred_anomaly_binary)\n",
    "print(f\"Anomaly detection accuracy (with 0.5 threshold): {accuracy:.4f}\")\n",
    "print(\"Confusion Matrix:\")\n",
    "print(confusion_matrix(y_test['anomaly'], y_pred_anomaly_binary))\n",
    "print(\"Classification Report:\")\n",
    "print(classification_report(y_test['anomaly'], y_pred_anomaly_binary))"
   ]
  },
  {
   "cell_type": "code",
   "execution_count": 109,
   "id": "828ac2ba",
   "metadata": {},
   "outputs": [
    {
     "name": "stdout",
     "output_type": "stream",
     "text": [
      "\n",
      "Cause prediction accuracy: 0.3500\n"
     ]
    }
   ],
   "source": [
    "y_pred_cause = np.clip(np.round(y_pred[:, 1]), 0, len(cause_encoder.classes_) - 1).astype(int)\n",
    "cause_accuracy = accuracy_score(y_test['cause'], y_pred_cause)\n",
    "print(f\"\\nCause prediction accuracy: {cause_accuracy:.4f}\")"
   ]
  },
  {
   "cell_type": "code",
   "execution_count": 110,
   "id": "fa093fc7",
   "metadata": {},
   "outputs": [],
   "source": [
    "model_package = {\n",
    "    'model': model,\n",
    "    'scaler': scaler,\n",
    "    'cause_encoder': cause_encoder,\n",
    "    'cause_mapping': cause_mapping,\n",
    "    'feature_columns': X.columns.tolist()\n",
    "}"
   ]
  },
  {
   "cell_type": "code",
   "execution_count": 111,
   "id": "f5b2bfd7",
   "metadata": {},
   "outputs": [
    {
     "data": {
      "text/plain": [
       "['biogas_anomaly_model.pkl']"
      ]
     },
     "execution_count": 111,
     "metadata": {},
     "output_type": "execute_result"
    }
   ],
   "source": [
    "joblib.dump(model_package, 'biogas_anomaly_model.pkl')"
   ]
  },
  {
   "cell_type": "code",
   "execution_count": 112,
   "id": "17f483ef",
   "metadata": {},
   "outputs": [
    {
     "name": "stdout",
     "output_type": "stream",
     "text": [
      "Example predictions:\n",
      "Sample 1:\n",
      "  True: Anomaly = 0, Cause = 'Produksi turun'\n",
      "  Pred: Anomaly = 0, Cause = 'Produksi turun'\n",
      "  --\n",
      "Sample 2:\n",
      "  True: Anomaly = 0, Cause = 'Maintenance'\n",
      "  Pred: Anomaly = 0, Cause = 'Produksi turun'\n",
      "  --\n",
      "Sample 3:\n",
      "  True: Anomaly = 0, Cause = 'pH rendah'\n",
      "  Pred: Anomaly = 0, Cause = 'Produksi naik drastis'\n",
      "  --\n",
      "Sample 4:\n",
      "  True: Anomaly = 1, Cause = 'Produksi turun'\n",
      "  Pred: Anomaly = 0, Cause = 'Produksi turun'\n",
      "  --\n",
      "Sample 5:\n",
      "  True: Anomaly = 0, Cause = 'pH tinggi'\n",
      "  Pred: Anomaly = 0, Cause = 'pH rendah'\n",
      "  --\n"
     ]
    }
   ],
   "source": [
    "print(\"Example predictions:\")\n",
    "for i in range(min(5, len(y_test))):\n",
    "    true_anomaly = y_test['anomaly'].iloc[i]\n",
    "    true_cause_id = y_test['cause'].iloc[i]\n",
    "    true_cause = cause_encoder.inverse_transform([true_cause_id])[0]\n",
    "    \n",
    "    pred_anomaly = y_pred_anomaly_binary[i]\n",
    "    pred_cause_id = y_pred_cause[i]\n",
    "    pred_cause = cause_encoder.inverse_transform([pred_cause_id])[0]\n",
    "    \n",
    "    print(f\"Sample {i+1}:\")\n",
    "    print(f\"  True: Anomaly = {true_anomaly}, Cause = '{true_cause}'\")\n",
    "    print(f\"  Pred: Anomaly = {pred_anomaly}, Cause = '{pred_cause}'\")\n",
    "    print(\"  --\")"
   ]
  },
  {
   "cell_type": "code",
   "execution_count": 113,
   "id": "ecab35fe",
   "metadata": {},
   "outputs": [
    {
     "name": "stdout",
     "output_type": "stream",
     "text": [
      "Re-authenticated workspace connection\n"
     ]
    }
   ],
   "source": [
    "# Add a cell for interactive authentication\n",
    "from azureml.core.authentication import InteractiveLoginAuthentication\n",
    "\n",
    "auth = InteractiveLoginAuthentication()\n",
    "ws = Workspace.from_config(auth=auth)\n",
    "print(\"Re-authenticated workspace connection\")"
   ]
  },
  {
   "cell_type": "code",
   "execution_count": 114,
   "id": "79badcd0",
   "metadata": {},
   "outputs": [
    {
     "name": "stdout",
     "output_type": "stream",
     "text": [
      "Registering model model_biogas\n",
      "Model registered:  model_biogas\n"
     ]
    }
   ],
   "source": [
    "from azureml.core import Model\n",
    "\n",
    "registered_model = Model.register(\n",
    "    model_path=\"biogas_anomaly_model.pkl\",\n",
    "    model_name=\"model_biogas\",\n",
    "    workspace=ws\n",
    ")\n",
    "print(\"Model registered: \", registered_model.name)"
   ]
  },
  {
   "cell_type": "code",
   "execution_count": 115,
   "id": "0aa181aa",
   "metadata": {},
   "outputs": [
    {
     "name": "stderr",
     "output_type": "stream",
     "text": [
      "Overriding of current TracerProvider is not allowed\n",
      "Overriding of current LoggerProvider is not allowed\n",
      "Overriding of current MeterProvider is not allowed\n",
      "Attempting to instrument while already instrumented\n",
      "Attempting to instrument while already instrumented\n",
      "Attempting to instrument while already instrumented\n",
      "Attempting to instrument while already instrumented\n",
      "Attempting to instrument while already instrumented\n"
     ]
    },
    {
     "data": {
      "text/plain": [
       "ManagedOnlineEndpoint({'public_network_access': 'Enabled', 'provisioning_state': 'Succeeded', 'scoring_uri': 'https://biogas-endpoint.southeastasia.inference.ml.azure.com/score', 'openapi_uri': 'https://biogas-endpoint.southeastasia.inference.ml.azure.com/swagger.json', 'name': 'biogas-endpoint', 'description': 'Biogas anomaly detection endpoint', 'tags': {}, 'properties': {'createdBy': 'JASON LEE', 'createdAt': '2025-05-29T13:18:40.329415+0000', 'lastModifiedAt': '2025-05-29T13:18:40.329415+0000', 'azureml.onlineendpointid': '/subscriptions/ca50b345-b6d7-4d97-be52-8847c2e0321e/resourcegroups/318/providers/microsoft.machinelearningservices/workspaces/bioserde_ml/onlineendpoints/biogas-endpoint', 'AzureAsyncOperationUri': 'https://management.azure.com/subscriptions/ca50b345-b6d7-4d97-be52-8847c2e0321e/providers/Microsoft.MachineLearningServices/locations/southeastasia/mfeOperationsStatus/oeidp:e8ae62c2-2570-49a1-b02e-0b782fcd2067:ace5f0cd-0e21-4a34-81d9-ee87a602a732?api-version=2022-02-01-preview'}, 'print_as_yaml': False, 'id': '/subscriptions/ca50b345-b6d7-4d97-be52-8847c2e0321e/resourceGroups/318/providers/Microsoft.MachineLearningServices/workspaces/bioserde_ml/onlineEndpoints/biogas-endpoint', 'Resource__source_path': '', 'base_path': 'c:\\\\Users\\\\Jason Lee\\\\Documents\\\\E-Book From Binus\\\\TS\\\\Arduino', 'creation_context': None, 'serialize': <msrest.serialization.Serializer object at 0x0000023D5A4F37F0>, 'auth_mode': 'key', 'location': 'southeastasia', 'identity': <azure.ai.ml.entities._credentials.IdentityConfiguration object at 0x0000023D5B9C43A0>, 'traffic': {}, 'mirror_traffic': {}, 'kind': 'Managed'})"
      ]
     },
     "execution_count": 115,
     "metadata": {},
     "output_type": "execute_result"
    }
   ],
   "source": [
    "from azure.ai.ml import MLClient\n",
    "from azure.ai.ml.entities import ManagedOnlineEndpoint, ManagedOnlineDeployment\n",
    "from azure.identity import InteractiveBrowserCredential\n",
    "\n",
    "credential = InteractiveBrowserCredential()\n",
    "\n",
    "ml_client = MLClient(\n",
    "    credential=credential,\n",
    "    subscription_id=\"ca50b345-b6d7-4d97-be52-8847c2e0321e\",\n",
    "    resource_group_name=\"318\",  \n",
    "    workspace_name=\"bioserde_ml\"\n",
    ")\n",
    "\n",
    "endpoint = ManagedOnlineEndpoint(\n",
    "    name=\"biogas-endpoint\",\n",
    "    description=\"Biogas anomaly detection endpoint\",\n",
    "    auth_mode=\"key\"\n",
    ")\n",
    "\n",
    "ml_client.online_endpoints.begin_create_or_update(endpoint).result()"
   ]
  },
  {
   "cell_type": "code",
   "execution_count": 116,
   "id": "c142f5b3",
   "metadata": {},
   "outputs": [
    {
     "name": "stderr",
     "output_type": "stream",
     "text": [
      "Overriding of current TracerProvider is not allowed\n",
      "Overriding of current LoggerProvider is not allowed\n",
      "Overriding of current MeterProvider is not allowed\n",
      "Attempting to instrument while already instrumented\n",
      "Attempting to instrument while already instrumented\n",
      "Attempting to instrument while already instrumented\n",
      "Attempting to instrument while already instrumented\n",
      "Attempting to instrument while already instrumented\n"
     ]
    },
    {
     "name": "stdout",
     "output_type": "stream",
     "text": [
      "Primary Key: A9fEmlMO1EKMBhyNQaeKYgJ2WoCm74lV4RqFIijf2231pWBD8JRIJQQJ99BEAAAAAAAAAAAAINFRAZML1c7h\n",
      "Secondary Key: 2oIPpRD7Jyi0elXjBZvI209fNJCQDoPnQEaAOkPwy2nbvvjdhdtBJQQJ99BEAAAAAAAAAAAAINFRAZML1Vh7\n"
     ]
    }
   ],
   "source": [
    "from azure.ai.ml import MLClient\n",
    "from azure.identity import InteractiveBrowserCredential\n",
    "\n",
    "# Authenticate\n",
    "credential = InteractiveBrowserCredential()\n",
    "ml_client = MLClient(\n",
    "    credential=credential,\n",
    "    subscription_id=\"ca50b345-b6d7-4d97-be52-8847c2e0321e\",\n",
    "    resource_group_name=\"318\",\n",
    "    workspace_name=\"bioserde_ml\"\n",
    ")\n",
    "\n",
    "# Get endpoint\n",
    "endpoint = ml_client.online_endpoints.get(\"biogas-endpoint\")\n",
    "\n",
    "# Get API keys\n",
    "keys = ml_client.online_endpoints.get_keys(\"biogas-endpoint\")\n",
    "print(\"Primary Key:\", keys.primary_key)\n",
    "print(\"Secondary Key:\", keys.secondary_key)"
   ]
  }
 ],
 "metadata": {
  "kernelspec": {
   "display_name": "Python 3",
   "language": "python",
   "name": "python3"
  },
  "language_info": {
   "codemirror_mode": {
    "name": "ipython",
    "version": 3
   },
   "file_extension": ".py",
   "mimetype": "text/x-python",
   "name": "python",
   "nbconvert_exporter": "python",
   "pygments_lexer": "ipython3",
   "version": "3.10.0"
  }
 },
 "nbformat": 4,
 "nbformat_minor": 5
}
