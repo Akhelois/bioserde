{
 "cells": [
  {
   "cell_type": "code",
   "execution_count": null,
   "id": "b001e874",
   "metadata": {},
   "outputs": [],
   "source": [
    "import pandas as pd\n",
    "import numpy as np\n",
    "from sklearn.model_selection import train_test_split\n",
    "# from sklearn.linear_model import LinearRegression\n",
    "from sklearn.preprocessing import LabelEncoder, StandardScaler\n",
    "import joblib"
   ]
  },
  {
   "cell_type": "code",
   "execution_count": 6,
   "id": "81c28033",
   "metadata": {},
   "outputs": [],
   "source": [
    "df = pd.read_csv('biogas.csv')"
   ]
  },
  {
   "cell_type": "code",
   "execution_count": 7,
   "id": "7c87adae",
   "metadata": {},
   "outputs": [
    {
     "data": {
      "text/html": [
       "<div>\n",
       "<style scoped>\n",
       "    .dataframe tbody tr th:only-of-type {\n",
       "        vertical-align: middle;\n",
       "    }\n",
       "\n",
       "    .dataframe tbody tr th {\n",
       "        vertical-align: top;\n",
       "    }\n",
       "\n",
       "    .dataframe thead th {\n",
       "        text-align: right;\n",
       "    }\n",
       "</style>\n",
       "<table border=\"1\" class=\"dataframe\">\n",
       "  <thead>\n",
       "    <tr style=\"text-align: right;\">\n",
       "      <th></th>\n",
       "      <th>timestamp</th>\n",
       "      <th>ph</th>\n",
       "      <th>biogas_production</th>\n",
       "      <th>anomaly</th>\n",
       "      <th>cause</th>\n",
       "    </tr>\n",
       "  </thead>\n",
       "  <tbody>\n",
       "    <tr>\n",
       "      <th>0</th>\n",
       "      <td>2024-01-01 08:00:00</td>\n",
       "      <td>6.87</td>\n",
       "      <td>34.81</td>\n",
       "      <td>1</td>\n",
       "      <td>NaN</td>\n",
       "    </tr>\n",
       "    <tr>\n",
       "      <th>1</th>\n",
       "      <td>2024-01-01 10:00:00</td>\n",
       "      <td>7.45</td>\n",
       "      <td>50.21</td>\n",
       "      <td>1</td>\n",
       "      <td>NaN</td>\n",
       "    </tr>\n",
       "    <tr>\n",
       "      <th>2</th>\n",
       "      <td>2024-01-01 12:00:00</td>\n",
       "      <td>7.23</td>\n",
       "      <td>35.38</td>\n",
       "      <td>1</td>\n",
       "      <td>NaN</td>\n",
       "    </tr>\n",
       "    <tr>\n",
       "      <th>3</th>\n",
       "      <td>2024-01-01 14:00:00</td>\n",
       "      <td>7.10</td>\n",
       "      <td>50.82</td>\n",
       "      <td>1</td>\n",
       "      <td>NaN</td>\n",
       "    </tr>\n",
       "    <tr>\n",
       "      <th>4</th>\n",
       "      <td>2024-01-01 16:00:00</td>\n",
       "      <td>6.66</td>\n",
       "      <td>36.89</td>\n",
       "      <td>1</td>\n",
       "      <td>NaN</td>\n",
       "    </tr>\n",
       "    <tr>\n",
       "      <th>...</th>\n",
       "      <td>...</td>\n",
       "      <td>...</td>\n",
       "      <td>...</td>\n",
       "      <td>...</td>\n",
       "      <td>...</td>\n",
       "    </tr>\n",
       "    <tr>\n",
       "      <th>2995</th>\n",
       "      <td>2024-09-06 22:00:00</td>\n",
       "      <td>7.37</td>\n",
       "      <td>58.44</td>\n",
       "      <td>0</td>\n",
       "      <td>NaN</td>\n",
       "    </tr>\n",
       "    <tr>\n",
       "      <th>2996</th>\n",
       "      <td>2024-09-07 00:00:00</td>\n",
       "      <td>6.66</td>\n",
       "      <td>37.76</td>\n",
       "      <td>0</td>\n",
       "      <td>NaN</td>\n",
       "    </tr>\n",
       "    <tr>\n",
       "      <th>2997</th>\n",
       "      <td>2024-09-07 02:00:00</td>\n",
       "      <td>8.29</td>\n",
       "      <td>15.35</td>\n",
       "      <td>0</td>\n",
       "      <td>pH tinggi</td>\n",
       "    </tr>\n",
       "    <tr>\n",
       "      <th>2998</th>\n",
       "      <td>2024-09-07 04:00:00</td>\n",
       "      <td>6.79</td>\n",
       "      <td>42.07</td>\n",
       "      <td>0</td>\n",
       "      <td>NaN</td>\n",
       "    </tr>\n",
       "    <tr>\n",
       "      <th>2999</th>\n",
       "      <td>2024-09-07 06:00:00</td>\n",
       "      <td>7.37</td>\n",
       "      <td>31.54</td>\n",
       "      <td>0</td>\n",
       "      <td>NaN</td>\n",
       "    </tr>\n",
       "  </tbody>\n",
       "</table>\n",
       "<p>3000 rows × 5 columns</p>\n",
       "</div>"
      ],
      "text/plain": [
       "                timestamp    ph  biogas_production  anomaly      cause\n",
       "0     2024-01-01 08:00:00  6.87              34.81        1        NaN\n",
       "1     2024-01-01 10:00:00  7.45              50.21        1        NaN\n",
       "2     2024-01-01 12:00:00  7.23              35.38        1        NaN\n",
       "3     2024-01-01 14:00:00  7.10              50.82        1        NaN\n",
       "4     2024-01-01 16:00:00  6.66              36.89        1        NaN\n",
       "...                   ...   ...                ...      ...        ...\n",
       "2995  2024-09-06 22:00:00  7.37              58.44        0        NaN\n",
       "2996  2024-09-07 00:00:00  6.66              37.76        0        NaN\n",
       "2997  2024-09-07 02:00:00  8.29              15.35        0  pH tinggi\n",
       "2998  2024-09-07 04:00:00  6.79              42.07        0        NaN\n",
       "2999  2024-09-07 06:00:00  7.37              31.54        0        NaN\n",
       "\n",
       "[3000 rows x 5 columns]"
      ]
     },
     "execution_count": 7,
     "metadata": {},
     "output_type": "execute_result"
    }
   ],
   "source": [
    "df"
   ]
  },
  {
   "cell_type": "code",
   "execution_count": 9,
   "id": "80384e21",
   "metadata": {},
   "outputs": [],
   "source": [
    "df['timestamp'] = pd.to_datetime(df['timestamp'])\n",
    "\n",
    "df['hour'] = df['timestamp'].dt.hour\n",
    "df['day'] = df['timestamp'].dt.day\n",
    "df['month'] = df['timestamp'].dt.month\n",
    "df['day_of_week'] = df['timestamp'].dt.dayofweek"
   ]
  },
  {
   "cell_type": "code",
   "execution_count": 10,
   "id": "153b7c42",
   "metadata": {},
   "outputs": [],
   "source": [
    "X = df[['ph', 'biogas_production', 'hour', 'day', 'month', 'day_of_week']]\n",
    "y = df[['anomaly', 'cause']]"
   ]
  },
  {
   "cell_type": "code",
   "execution_count": 11,
   "id": "708c426f",
   "metadata": {},
   "outputs": [
    {
     "name": "stdout",
     "output_type": "stream",
     "text": [
      "\n",
      "Missing values in X: ph                   0\n",
      "biogas_production    0\n",
      "hour                 0\n",
      "day                  0\n",
      "month                0\n",
      "day_of_week          0\n",
      "dtype: int64\n",
      "Missing values in y: anomaly       0\n",
      "cause      2700\n",
      "dtype: int64\n"
     ]
    }
   ],
   "source": [
    "print(\"\\nMissing values in X:\", X.isna().sum())\n",
    "print(\"Missing values in y:\", y.isna().sum())"
   ]
  },
  {
   "cell_type": "code",
   "execution_count": 13,
   "id": "c9054ec2",
   "metadata": {},
   "outputs": [
    {
     "name": "stderr",
     "output_type": "stream",
     "text": [
      "C:\\Users\\Jason Lee\\AppData\\Local\\Temp\\ipykernel_18884\\2817152413.py:2: SettingWithCopyWarning: \n",
      "A value is trying to be set on a copy of a slice from a DataFrame.\n",
      "Try using .loc[row_indexer,col_indexer] = value instead\n",
      "\n",
      "See the caveats in the documentation: https://pandas.pydata.org/pandas-docs/stable/user_guide/indexing.html#returning-a-view-versus-a-copy\n",
      "  X[column] = X[column].fillna(X[column].mean())\n"
     ]
    }
   ],
   "source": [
    "for column in X.columns:\n",
    "    X[column] = X[column].fillna(X[column].mean())"
   ]
  },
  {
   "cell_type": "code",
   "execution_count": 14,
   "id": "94c2f658",
   "metadata": {},
   "outputs": [
    {
     "name": "stdout",
     "output_type": "stream",
     "text": [
      "2700\n"
     ]
    }
   ],
   "source": [
    "rows_before = len(y)\n",
    "non_na_indices = y.dropna().index\n",
    "X = X.loc[non_na_indices]\n",
    "y = y.loc[non_na_indices]\n",
    "rows_after = len(y)\n",
    "print(f\"{rows_before - rows_after}\")\n"
   ]
  },
  {
   "cell_type": "code",
   "execution_count": 15,
   "id": "68e636a9",
   "metadata": {},
   "outputs": [],
   "source": [
    "cause_encoder = LabelEncoder()\n",
    "cause_encoded = cause_encoder.fit_transform(y['cause'])"
   ]
  },
  {
   "cell_type": "code",
   "execution_count": 16,
   "id": "68768df8",
   "metadata": {},
   "outputs": [
    {
     "name": "stdout",
     "output_type": "stream",
     "text": [
      "Cause mapping: {'Maintenance': 0, 'Produksi naik drastis': 1, 'Produksi turun': 2, 'pH rendah': 3, 'pH tinggi': 4}\n"
     ]
    }
   ],
   "source": [
    "cause_mapping = dict(zip(cause_encoder.classes_, cause_encoder.transform(cause_encoder.classes_)))\n",
    "print(\"Cause mapping:\", cause_mapping)"
   ]
  },
  {
   "cell_type": "code",
   "execution_count": 17,
   "id": "23eb1232",
   "metadata": {},
   "outputs": [
    {
     "name": "stdout",
     "output_type": "stream",
     "text": [
      "      anomaly  cause\n",
      "16          1      4\n",
      "60          1      1\n",
      "72          1      0\n",
      "89          1      4\n",
      "91          1      4\n",
      "...       ...    ...\n",
      "2964        0      2\n",
      "2972        0      3\n",
      "2985        0      1\n",
      "2990        0      4\n",
      "2997        0      4\n",
      "\n",
      "[300 rows x 2 columns]\n"
     ]
    }
   ],
   "source": [
    "y['cause'] = cause_encoded\n",
    "print(y)"
   ]
  },
  {
   "cell_type": "code",
   "execution_count": 18,
   "id": "a1e90e47",
   "metadata": {},
   "outputs": [],
   "source": [
    "scaler = StandardScaler()\n",
    "X_scaled = scaler.fit_transform(X)\n",
    "X_scaled_df = pd.DataFrame(X_scaled, columns=X.columns, index=X.index)"
   ]
  },
  {
   "cell_type": "code",
   "execution_count": 19,
   "id": "01d49d09",
   "metadata": {},
   "outputs": [],
   "source": [
    "X_train, X_test, y_train, y_test = train_test_split(X_scaled_df, y, test_size=0.2, random_state=42)"
   ]
  },
  {
   "cell_type": "code",
   "execution_count": 40,
   "id": "11e28b22",
   "metadata": {},
   "outputs": [],
   "source": [
    "from sklearn.feature_selection import SelectKBest, f_regression\n",
    "\n",
    "selector = SelectKBest(f_regression, k=3)\n",
    "X_train_selected = selector.fit_transform(X_train, y_train['anomaly'])\n",
    "X_test_selected = selector.transform(X_test)"
   ]
  },
  {
   "cell_type": "code",
   "execution_count": 41,
   "id": "51cc22c6",
   "metadata": {},
   "outputs": [
    {
     "data": {
      "text/html": [
       "<style>#sk-container-id-2 {color: black;background-color: white;}#sk-container-id-2 pre{padding: 0;}#sk-container-id-2 div.sk-toggleable {background-color: white;}#sk-container-id-2 label.sk-toggleable__label {cursor: pointer;display: block;width: 100%;margin-bottom: 0;padding: 0.3em;box-sizing: border-box;text-align: center;}#sk-container-id-2 label.sk-toggleable__label-arrow:before {content: \"▸\";float: left;margin-right: 0.25em;color: #696969;}#sk-container-id-2 label.sk-toggleable__label-arrow:hover:before {color: black;}#sk-container-id-2 div.sk-estimator:hover label.sk-toggleable__label-arrow:before {color: black;}#sk-container-id-2 div.sk-toggleable__content {max-height: 0;max-width: 0;overflow: hidden;text-align: left;background-color: #f0f8ff;}#sk-container-id-2 div.sk-toggleable__content pre {margin: 0.2em;color: black;border-radius: 0.25em;background-color: #f0f8ff;}#sk-container-id-2 input.sk-toggleable__control:checked~div.sk-toggleable__content {max-height: 200px;max-width: 100%;overflow: auto;}#sk-container-id-2 input.sk-toggleable__control:checked~label.sk-toggleable__label-arrow:before {content: \"▾\";}#sk-container-id-2 div.sk-estimator input.sk-toggleable__control:checked~label.sk-toggleable__label {background-color: #d4ebff;}#sk-container-id-2 div.sk-label input.sk-toggleable__control:checked~label.sk-toggleable__label {background-color: #d4ebff;}#sk-container-id-2 input.sk-hidden--visually {border: 0;clip: rect(1px 1px 1px 1px);clip: rect(1px, 1px, 1px, 1px);height: 1px;margin: -1px;overflow: hidden;padding: 0;position: absolute;width: 1px;}#sk-container-id-2 div.sk-estimator {font-family: monospace;background-color: #f0f8ff;border: 1px dotted black;border-radius: 0.25em;box-sizing: border-box;margin-bottom: 0.5em;}#sk-container-id-2 div.sk-estimator:hover {background-color: #d4ebff;}#sk-container-id-2 div.sk-parallel-item::after {content: \"\";width: 100%;border-bottom: 1px solid gray;flex-grow: 1;}#sk-container-id-2 div.sk-label:hover label.sk-toggleable__label {background-color: #d4ebff;}#sk-container-id-2 div.sk-serial::before {content: \"\";position: absolute;border-left: 1px solid gray;box-sizing: border-box;top: 0;bottom: 0;left: 50%;z-index: 0;}#sk-container-id-2 div.sk-serial {display: flex;flex-direction: column;align-items: center;background-color: white;padding-right: 0.2em;padding-left: 0.2em;position: relative;}#sk-container-id-2 div.sk-item {position: relative;z-index: 1;}#sk-container-id-2 div.sk-parallel {display: flex;align-items: stretch;justify-content: center;background-color: white;position: relative;}#sk-container-id-2 div.sk-item::before, #sk-container-id-2 div.sk-parallel-item::before {content: \"\";position: absolute;border-left: 1px solid gray;box-sizing: border-box;top: 0;bottom: 0;left: 50%;z-index: -1;}#sk-container-id-2 div.sk-parallel-item {display: flex;flex-direction: column;z-index: 1;position: relative;background-color: white;}#sk-container-id-2 div.sk-parallel-item:first-child::after {align-self: flex-end;width: 50%;}#sk-container-id-2 div.sk-parallel-item:last-child::after {align-self: flex-start;width: 50%;}#sk-container-id-2 div.sk-parallel-item:only-child::after {width: 0;}#sk-container-id-2 div.sk-dashed-wrapped {border: 1px dashed gray;margin: 0 0.4em 0.5em 0.4em;box-sizing: border-box;padding-bottom: 0.4em;background-color: white;}#sk-container-id-2 div.sk-label label {font-family: monospace;font-weight: bold;display: inline-block;line-height: 1.2em;}#sk-container-id-2 div.sk-label-container {text-align: center;}#sk-container-id-2 div.sk-container {/* jupyter's `normalize.less` sets `[hidden] { display: none; }` but bootstrap.min.css set `[hidden] { display: none !important; }` so we also need the `!important` here to be able to override the default hidden behavior on the sphinx rendered scikit-learn.org. See: https://github.com/scikit-learn/scikit-learn/issues/21755 */display: inline-block !important;position: relative;}#sk-container-id-2 div.sk-text-repr-fallback {display: none;}</style><div id=\"sk-container-id-2\" class=\"sk-top-container\"><div class=\"sk-text-repr-fallback\"><pre>DecisionTreeRegressor(max_depth=3)</pre><b>In a Jupyter environment, please rerun this cell to show the HTML representation or trust the notebook. <br />On GitHub, the HTML representation is unable to render, please try loading this page with nbviewer.org.</b></div><div class=\"sk-container\" hidden><div class=\"sk-item\"><div class=\"sk-estimator sk-toggleable\"><input class=\"sk-toggleable__control sk-hidden--visually\" id=\"sk-estimator-id-2\" type=\"checkbox\" checked><label for=\"sk-estimator-id-2\" class=\"sk-toggleable__label sk-toggleable__label-arrow\">DecisionTreeRegressor</label><div class=\"sk-toggleable__content\"><pre>DecisionTreeRegressor(max_depth=3)</pre></div></div></div></div></div>"
      ],
      "text/plain": [
       "DecisionTreeRegressor(max_depth=3)"
      ]
     },
     "execution_count": 41,
     "metadata": {},
     "output_type": "execute_result"
    }
   ],
   "source": [
    "from sklearn.tree import DecisionTreeRegressor\n",
    "model = DecisionTreeRegressor(max_depth=3) \n",
    "model.fit(X_train_selected, y_train)"
   ]
  },
  {
   "cell_type": "code",
   "execution_count": 46,
   "id": "66b2bafc",
   "metadata": {},
   "outputs": [],
   "source": [
    "model_package = {\n",
    "    'model': model,\n",
    "    'scaler': scaler,\n",
    "    'cause_encoder': cause_encoder,\n",
    "    'cause_mapping': cause_mapping,\n",
    "    'feature_selector': selector,\n",
    "    'feature_columns': X.columns.tolist()\n",
    "}"
   ]
  },
  {
   "cell_type": "code",
   "execution_count": 47,
   "id": "f5b2bfd7",
   "metadata": {},
   "outputs": [
    {
     "data": {
      "text/plain": [
       "['biogas_anomaly_model.pkl']"
      ]
     },
     "execution_count": 47,
     "metadata": {},
     "output_type": "execute_result"
    }
   ],
   "source": [
    "joblib.dump(model_package, 'biogas_anomaly_model.pkl')"
   ]
  },
  {
   "cell_type": "code",
   "execution_count": 48,
   "id": "1c316a92",
   "metadata": {},
   "outputs": [],
   "source": [
    "from azureml.core import Workspace\n",
    "ws = Workspace.from_config()"
   ]
  },
  {
   "cell_type": "code",
   "execution_count": 49,
   "id": "79badcd0",
   "metadata": {},
   "outputs": [
    {
     "name": "stdout",
     "output_type": "stream",
     "text": [
      "Registering model model_biogas\n",
      "Model registered:  model_biogas\n"
     ]
    }
   ],
   "source": [
    "from azureml.core import Model\n",
    "\n",
    "registered_model = Model.register(\n",
    "    model_path=\"biogas_anomaly_model.pkl\",\n",
    "    model_name=\"model_biogas\",\n",
    "    workspace=ws\n",
    ")\n",
    "print(\"Model registered: \", registered_model.name)"
   ]
  },
  {
   "cell_type": "code",
   "execution_count": 50,
   "id": "0aa181aa",
   "metadata": {},
   "outputs": [
    {
     "name": "stderr",
     "output_type": "stream",
     "text": [
      "Overriding of current TracerProvider is not allowed\n",
      "Overriding of current LoggerProvider is not allowed\n",
      "Overriding of current MeterProvider is not allowed\n",
      "Attempting to instrument while already instrumented\n",
      "Attempting to instrument while already instrumented\n",
      "Attempting to instrument while already instrumented\n",
      "Attempting to instrument while already instrumented\n",
      "Attempting to instrument while already instrumented\n"
     ]
    }
   ],
   "source": [
    "from azure.ai.ml import MLClient\n",
    "from azure.ai.ml.entities import ManagedOnlineEndpoint, ManagedOnlineDeployment\n",
    "from azure.identity import InteractiveBrowserCredential\n",
    "\n",
    "credential = InteractiveBrowserCredential()\n",
    "\n",
    "ml_client = MLClient(\n",
    "    credential=credential,\n",
    "    subscription_id=\"ca50b345-b6d7-4d97-be52-8847c2e0321e\",\n",
    "    resource_group_name=\"318\",  \n",
    "    workspace_name=\"bioserde_ml\"\n",
    ")\n",
    "\n",
    "# endpoint = ManagedOnlineEndpoint(\n",
    "#     name=\"biogas-endpoint\",\n",
    "#     description=\"Biogas anomaly detection endpoint\",\n",
    "#     auth_mode=\"key\"\n",
    "# )\n",
    "\n",
    "# ml_client.online_endpoints.begin_create_or_update(endpoint).result()"
   ]
  },
  {
   "cell_type": "code",
   "execution_count": 51,
   "id": "273e7c91",
   "metadata": {},
   "outputs": [
    {
     "name": "stderr",
     "output_type": "stream",
     "text": [
      "Instance type Standard_DS2_v2 may be too small for compute resources. Minimum recommended compute SKU is Standard_DS3_v2 for general purpose endpoints. Learn more about SKUs here: https://learn.microsoft.com/azure/machine-learning/referencemanaged-online-endpoints-vm-sku-list\n",
      "Check: endpoint biogas-endpoint exists\n"
     ]
    },
    {
     "name": "stdout",
     "output_type": "stream",
     "text": [
      "Using model: model_biogas, version: 4\n",
      "Starting deployment - this might take 5-10 minutes...\n"
     ]
    },
    {
     "name": "stderr",
     "output_type": "stream",
     "text": [
      "\u001b[32mUploading Bioserde Landing (1) (58.79 MBs): 100%|##########| 58791315/58791315 [00:27<00:00, 2104026.24it/s]\n",
      "\u001b[39m\n",
      "\n"
     ]
    },
    {
     "name": "stdout",
     "output_type": "stream",
     "text": [
      ".............................Deployment error: (ResourceNotReady) User container has crashed or terminated. Please see troubleshooting guide, available here: https://aka.ms/oe-tsg#error-resourcenotready\n",
      "Code: ResourceNotReady\n",
      "Message: User container has crashed or terminated. Please see troubleshooting guide, available here: https://aka.ms/oe-tsg#error-resourcenotready\n",
      "\n",
      "Proceeding with local mock server solution...\n"
     ]
    }
   ],
   "source": [
    "from azure.ai.ml.entities import ManagedOnlineDeployment, Environment, CodeConfiguration\n",
    "\n",
    "env = Environment(\n",
    "    name=\"biogas-env\",\n",
    "    image=\"mcr.microsoft.com/azureml/openmpi4.1.0-ubuntu20.04:latest\",\n",
    "    conda_file={\n",
    "        \"name\": \"biogas-project\",\n",
    "        \"channels\": [\"conda-forge\"],\n",
    "        \"dependencies\": [\n",
    "            \"python=3.8\",\n",
    "            \"pip=21.3.1\",\n",
    "            {\"pip\": [\n",
    "                \"numpy>=1.21.0\",\n",
    "                \"scikit-learn>=1.0.0\",\n",
    "                \"joblib>=1.1.0\",\n",
    "            ]}\n",
    "        ]\n",
    "    }\n",
    ")\n",
    "\n",
    "model = ml_client.models.get(name=\"model_biogas\", version=\"4\")\n",
    "print(f\"Using model: {model.name}, version: {model.version}\")\n",
    "\n",
    "deployment = ManagedOnlineDeployment(\n",
    "    name=\"biogas-deployment\",\n",
    "    endpoint_name=\"biogas-endpoint\",\n",
    "    model=model,\n",
    "    environment=env,\n",
    "    instance_type=\"Standard_DS2_v2\",\n",
    "    instance_count=1,\n",
    "    code_configuration=CodeConfiguration(\n",
    "        code=\"./\",\n",
    "        scoring_script=\"score.py\"\n",
    "    )\n",
    ")\n",
    "\n",
    "print(\"Starting deployment - this might take 5-10 minutes...\")\n",
    "try:\n",
    "    deployment_result = ml_client.online_deployments.begin_create_or_update(deployment)\n",
    "    deployment_result.result(timeout=900)\n",
    "    \n",
    "    print(\"Deployment successful!\")\n",
    "    \n",
    "    endpoint = ml_client.online_endpoints.get(\"biogas-endpoint\")\n",
    "    ml_client.online_endpoints.begin_create_or_update(\n",
    "        ManagedOnlineEndpoint(\n",
    "            name=\"biogas-endpoint\",\n",
    "            traffic={\"biogas-deployment\": 100}\n",
    "        )\n",
    "    ).result()\n",
    "    \n",
    "    print(\"Traffic updated successfully!\")\n",
    "except Exception as e:\n",
    "    print(f\"Deployment error: {str(e)}\")\n",
    "    print(\"\\nProceeding with local mock server solution...\")"
   ]
  },
  {
   "cell_type": "code",
   "execution_count": null,
   "id": "c142f5b3",
   "metadata": {},
   "outputs": [
    {
     "name": "stderr",
     "output_type": "stream",
     "text": [
      "Overriding of current TracerProvider is not allowed\n",
      "Overriding of current LoggerProvider is not allowed\n",
      "Overriding of current MeterProvider is not allowed\n",
      "Attempting to instrument while already instrumented\n",
      "Attempting to instrument while already instrumented\n",
      "Attempting to instrument while already instrumented\n",
      "Attempting to instrument while already instrumented\n",
      "Attempting to instrument while already instrumented\n"
     ]
    },
    {
     "name": "stdout",
     "output_type": "stream",
     "text": [
      "Primary Key: B4ZJoXXnCQdk5P1XArm69g7k4nYpfNmoH1XNE1faXZu2c8MinICIJQQJ99BFAAAAAAAAAAAAINFRAZMLraH3\n",
      "Secondary Key: CLe32xdHyf5d49WPYQua4iY3Kyw8VsChRkqrx3Kfack0a0EwUssVJQQJ99BFAAAAAAAAAAAAINFRAZML1e88\n"
     ]
    }
   ],
   "source": [
    "from azure.ai.ml import MLClient\n",
    "from azure.identity import InteractiveBrowserCredential\n",
    "\n",
    "# Authenticate\n",
    "credential = InteractiveBrowserCredential()\n",
    "ml_client = MLClient(\n",
    "    credential=credential,\n",
    "    subscription_id=\"ca50b345-b6d7-4d97-be52-8847c2e0321e\",\n",
    "    resource_group_name=\"318\",\n",
    "    workspace_name=\"bioserde_ml\"\n",
    ")\n",
    "\n",
    "# Get endpoint\n",
    "endpoint = ml_client.online_endpoints.get(\"biogas-model-endpoint\")\n",
    "\n",
    "# Get API keys\n",
    "keys = ml_client.online_endpoints.get_keys(\"biogas-model-endpoint\")\n",
    "print(\"Primary Key:\", keys.primary_key)\n",
    "print(\"Secondary Key:\", keys.secondary_key)"
   ]
  }
 ],
 "metadata": {
  "kernelspec": {
   "display_name": "Python 3",
   "language": "python",
   "name": "python3"
  },
  "language_info": {
   "codemirror_mode": {
    "name": "ipython",
    "version": 3
   },
   "file_extension": ".py",
   "mimetype": "text/x-python",
   "name": "python",
   "nbconvert_exporter": "python",
   "pygments_lexer": "ipython3",
   "version": "3.10.0"
  }
 },
 "nbformat": 4,
 "nbformat_minor": 5
}
