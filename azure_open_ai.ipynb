{
 "cells": [
  {
   "cell_type": "code",
   "execution_count": null,
   "id": "964c53ac",
   "metadata": {},
   "outputs": [
    {
     "name": "stdout",
     "output_type": "stream",
     "text": [
      "{\n",
      "  \"id\": \"chatcmpl-BfoeJTZRxdFlsStF3JAJjGZvaKYIF\",\n",
      "  \"choices\": [\n",
      "    {\n",
      "      \"finish_reason\": \"stop\",\n",
      "      \"index\": 0,\n",
      "      \"logprobs\": null,\n",
      "      \"message\": {\n",
      "        \"content\": \"Hello! How can I assist you today?\",\n",
      "        \"refusal\": null,\n",
      "        \"role\": \"assistant\",\n",
      "        \"annotations\": []\n",
      "      },\n",
      "      \"content_filter_results\": {\n",
      "        \"hate\": {\n",
      "          \"filtered\": false,\n",
      "          \"severity\": \"safe\"\n",
      "        },\n",
      "        \"self_harm\": {\n",
      "          \"filtered\": false,\n",
      "          \"severity\": \"safe\"\n",
      "        },\n",
      "        \"sexual\": {\n",
      "          \"filtered\": false,\n",
      "          \"severity\": \"safe\"\n",
      "        },\n",
      "        \"violence\": {\n",
      "          \"filtered\": false,\n",
      "          \"severity\": \"safe\"\n",
      "        }\n",
      "      }\n",
      "    }\n",
      "  ],\n",
      "  \"created\": 1749305843,\n",
      "  \"model\": \"gpt-4.1-nano-2025-04-14\",\n",
      "  \"object\": \"chat.completion\",\n",
      "  \"system_fingerprint\": \"fp_68472df8fd\",\n",
      "  \"usage\": {\n",
      "    \"completion_tokens\": 10,\n",
      "    \"prompt_tokens\": 18,\n",
      "    \"total_tokens\": 28,\n",
      "    \"completion_tokens_details\": {\n",
      "      \"accepted_prediction_tokens\": 0,\n",
      "      \"audio_tokens\": 0,\n",
      "      \"reasoning_tokens\": 0,\n",
      "      \"rejected_prediction_tokens\": 0\n",
      "    },\n",
      "    \"prompt_tokens_details\": {\n",
      "      \"audio_tokens\": 0,\n",
      "      \"cached_tokens\": 0\n",
      "    }\n",
      "  },\n",
      "  \"prompt_filter_results\": [\n",
      "    {\n",
      "      \"prompt_index\": 0,\n",
      "      \"content_filter_results\": {}\n",
      "    }\n",
      "  ]\n",
      "}\n"
     ]
    }
   ],
   "source": [
    "import os\n",
    "from openai import AzureOpenAI\n",
    "from azure.identity import DefaultAzureCredential, get_bearer_token_provider\n",
    "      \n",
    "endpoint = os.getenv(\"ENDPOINT_URL\", \"https://jason-mbmaiew1-eastus2.cognitiveservices.azure.com/\")\n",
    "deployment = os.getenv(\"DEPLOYMENT_NAME\", \"model-router\")\n",
    "\n",
    "client = AzureOpenAI(\n",
    "    azure_endpoint=endpoint,\n",
    "    api_key=\"BooRiRC2qxjJaUe2yRr5gkltG1uFJfIoL4xKz8AUUxuvBKvGzHcfJQQJ99BFACHYHv6XJ3w3AAAAACOGV2zB\",\n",
    "    api_version=\"2025-01-01-preview\",\n",
    ")\n",
    "\n",
    "chat_prompt = [\n",
    "    {\n",
    "        \"role\": \"system\",\n",
    "        \"content\": [\n",
    "            {\n",
    "                \"type\": \"text\",\n",
    "                \"text\": \"You are an AI assistant that helps people find information.\"\n",
    "            }\n",
    "        ]\n",
    "    }\n",
    "]\n",
    "\n",
    "messages = chat_prompt\n",
    "\n",
    "completion = client.chat.completions.create(\n",
    "    model=deployment,\n",
    "    messages=messages,\n",
    "    max_tokens=8192,\n",
    "    temperature=0.7,\n",
    "    top_p=0.95,\n",
    "    frequency_penalty=0,\n",
    "    presence_penalty=0,\n",
    "    stop=None,\n",
    "    stream=False\n",
    ")\n",
    "\n",
    "print(completion.to_json())"
   ]
  },
  {
   "cell_type": "code",
   "execution_count": 43,
   "id": "be7a2352",
   "metadata": {},
   "outputs": [],
   "source": [
    "def chat_with_ai(user_message, system_prompt=\"You are a helpful AI assistant.\"):\n",
    "    messages = [\n",
    "        {\"role\": \"system\", \"content\": system_prompt},\n",
    "        {\"role\": \"user\", \"content\": user_message}\n",
    "    ]\n",
    "    \n",
    "    completion = client.chat.completions.create(\n",
    "        model=deployment,\n",
    "        messages=messages,\n",
    "        max_tokens=8192,\n",
    "        temperature=0.7\n",
    "    )\n",
    "    \n",
    "    return completion.choices[0].message.content"
   ]
  },
  {
   "cell_type": "code",
   "execution_count": 44,
   "id": "6d05cbac",
   "metadata": {},
   "outputs": [
    {
     "name": "stdout",
     "output_type": "stream",
     "text": [
      "Sure! Quantum computing is a new type of computing that uses the strange and powerful rules of quantum physics to perform calculations.\n",
      "\n",
      "Here's a simple way to think about it:\n",
      "\n",
      "- **Regular computers** use bits to represent information as either 0 or 1.\n",
      "- **Quantum computers** use quantum bits, or **qubits**, which can be both 0 and 1 at the same time thanks to a property called **superposition**.\n",
      "\n",
      "Because of superposition and another property called **entanglement** (where qubits become linked and the state of one instantly influences another), quantum computers can process many possibilities at once. This allows them to solve certain problems much faster than regular computers.\n",
      "\n",
      "In summary, quantum computing leverages the weird but powerful rules of quantum physics to perform complex calculations more efficiently than traditional computers for some specific tasks.\n"
     ]
    }
   ],
   "source": [
    "response = chat_with_ai(\"Explain quantum computing in simple terms\")\n",
    "print(response)"
   ]
  },
  {
   "cell_type": "code",
   "execution_count": 48,
   "id": "8188d236",
   "metadata": {},
   "outputs": [],
   "source": [
    "def stream_chat(user_message):\n",
    "    messages = [\n",
    "        {\"role\": \"system\", \"content\": \"You are a helpful AI assistant.\"},\n",
    "        {\"role\": \"user\", \"content\": user_message}\n",
    "    ]\n",
    "    \n",
    "    stream = client.chat.completions.create(\n",
    "        model=deployment,\n",
    "        messages=messages,\n",
    "        stream=True\n",
    "    )\n",
    "    \n",
    "    full_response = \"\"\n",
    "    for chunk in stream:\n",
    "        if chunk.choices and len(chunk.choices) > 0:\n",
    "            if chunk.choices[0].delta.content is not None:\n",
    "                content = chunk.choices[0].delta.content\n",
    "                print(content, end=\"\")\n",
    "                full_response += content\n",
    "    \n",
    "    print()\n",
    "    return full_response"
   ]
  },
  {
   "cell_type": "code",
   "execution_count": 52,
   "id": "7f97328d",
   "metadata": {},
   "outputs": [
    {
     "name": "stdout",
     "output_type": "stream",
     "text": [
      "Sure! Here's a joke for you:\n",
      "\n",
      "Why don't skeletons fight each other?  \n",
      "Because they don't have the guts!\n",
      "Sure! Here's a joke for you:\n",
      "\n",
      "Why don't skeletons fight each other?  \n",
      "Because they don't have the guts!\n"
     ]
    }
   ],
   "source": [
    "response = stream_chat(\"Give me a Joke\")\n",
    "print(response)"
   ]
  }
 ],
 "metadata": {
  "kernelspec": {
   "display_name": "Python 3",
   "language": "python",
   "name": "python3"
  },
  "language_info": {
   "codemirror_mode": {
    "name": "ipython",
    "version": 3
   },
   "file_extension": ".py",
   "mimetype": "text/x-python",
   "name": "python",
   "nbconvert_exporter": "python",
   "pygments_lexer": "ipython3",
   "version": "3.10.0"
  }
 },
 "nbformat": 4,
 "nbformat_minor": 5
}
